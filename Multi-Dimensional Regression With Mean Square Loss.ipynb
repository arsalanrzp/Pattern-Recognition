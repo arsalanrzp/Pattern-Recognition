{
 "cells": [
  {
   "cell_type": "code",
   "execution_count": 79,
   "metadata": {},
   "outputs": [],
   "source": [
    "import numpy as np\n",
    "\n",
    "np.random.seed(0)\n",
    "a, b, c, d = 1, 2, 3, 4\n",
    "num_data_points = 1000\n",
    "\n",
    "x_values1 = np.random.uniform(0, 20, num_data_points)\n",
    "x_values2 = np.random.uniform(0, 20, num_data_points)\n",
    "x_values3 = np.random.uniform(0, 20, num_data_points)\n",
    "\n",
    "x_values = np.column_stack((x_values1, x_values2, x_values3, np.ones(num_data_points)))\n",
    "A = [a, b, c, d]\n",
    "y_values = np.inner(A, x_values) + np.random.normal(0, 1, num_data_points)\n",
    "data = np.column_stack((x_values1, x_values2, x_values3, y_values))\n"
   ]
  },
  {
   "cell_type": "code",
   "execution_count": 80,
   "metadata": {},
   "outputs": [
    {
     "name": "stdout",
     "output_type": "stream",
     "text": [
      "[[1.0004724 ]\n",
      " [2.00505103]\n",
      " [2.9965864 ]\n",
      " [3.91572774]]\n"
     ]
    }
   ],
   "source": [
    "sigmaxixi = np.matrix(np.zeros((4, 4)))\n",
    "for i in range(num_data_points):\n",
    "    x = x_values[i].reshape((x_values[i].shape[0], -1))\n",
    "    xixi = np.inner(x, x)\n",
    "    sigmaxixi += xixi\n",
    "sigmaxiyi = np.matrix(np.zeros((1, 4)))\n",
    "for i in range(num_data_points):\n",
    "    xiyi = y_values[i] * x_values[i]\n",
    "    sigmaxiyi += xiyi\n",
    "Response = np.inner(np.linalg.pinv(sigmaxixi), sigmaxiyi)\n",
    "print(Response)\n"
   ]
  }
 ],
 "metadata": {
  "kernelspec": {
   "display_name": "Python 3 (ipykernel)",
   "language": "python",
   "name": "python3"
  }
 },
 "nbformat": 4,
 "nbformat_minor": 2
}
